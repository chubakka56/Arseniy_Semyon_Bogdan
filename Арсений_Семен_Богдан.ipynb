{
  "nbformat": 4,
  "nbformat_minor": 0,
  "metadata": {
    "colab": {
      "provenance": []
    },
    "kernelspec": {
      "name": "python3",
      "display_name": "Python 3"
    },
    "language_info": {
      "name": "python"
    },
    "accelerator": "TPU",
    "gpuClass": "standard"
  },
  "cells": [
    {
      "cell_type": "markdown",
      "source": [
        "Загрузка файла"
      ],
      "metadata": {
        "id": "2ukVWMJ31zRO"
      }
    },
    {
      "cell_type": "code",
      "execution_count": 1,
      "metadata": {
        "id": "0mBa0OKwX7Wf"
      },
      "outputs": [],
      "source": [
        "import pandas as pd\n",
        "\n"
      ]
    },
    {
      "cell_type": "code",
      "source": [
        "df = pd.read_csv('https://drive.google.com/file/d/1-GxCKCv8VhXvzH4tH-KstqPsLCNt8hQH/view?usp=share_link', sep=',')\n",
        "idc=pd.DataFrame(df.reco_id_curr)\n",
        "df=df.drop(columns='reco_id_curr')\n"
      ],
      "metadata": {
        "id": "YkyYdK0V8UAe",
        "colab": {
          "base_uri": "https://localhost:8080/",
          "height": 321
        },
        "outputId": "18beb29d-1d20-4fe0-f827-556e16fa06b8"
      },
      "execution_count": 4,
      "outputs": [
        {
          "output_type": "error",
          "ename": "AttributeError",
          "evalue": "ignored",
          "traceback": [
            "\u001b[0;31m---------------------------------------------------------------------------\u001b[0m",
            "\u001b[0;31mAttributeError\u001b[0m                            Traceback (most recent call last)",
            "\u001b[0;32m<ipython-input-4-f3bd2b473253>\u001b[0m in \u001b[0;36m<module>\u001b[0;34m\u001b[0m\n\u001b[1;32m      1\u001b[0m \u001b[0mdf\u001b[0m \u001b[0;34m=\u001b[0m \u001b[0mpd\u001b[0m\u001b[0;34m.\u001b[0m\u001b[0mread_csv\u001b[0m\u001b[0;34m(\u001b[0m\u001b[0;34m'https://drive.google.com/file/d/1-GxCKCv8VhXvzH4tH-KstqPsLCNt8hQH/view?usp=share_link'\u001b[0m\u001b[0;34m,\u001b[0m \u001b[0msep\u001b[0m\u001b[0;34m=\u001b[0m\u001b[0;34m','\u001b[0m\u001b[0;34m)\u001b[0m\u001b[0;34m\u001b[0m\u001b[0;34m\u001b[0m\u001b[0m\n\u001b[0;32m----> 2\u001b[0;31m \u001b[0midc\u001b[0m\u001b[0;34m=\u001b[0m\u001b[0mpd\u001b[0m\u001b[0;34m.\u001b[0m\u001b[0mDataFrame\u001b[0m\u001b[0;34m(\u001b[0m\u001b[0mdf\u001b[0m\u001b[0;34m.\u001b[0m\u001b[0mreco_id_curr\u001b[0m\u001b[0;34m)\u001b[0m\u001b[0;34m\u001b[0m\u001b[0;34m\u001b[0m\u001b[0m\n\u001b[0m\u001b[1;32m      3\u001b[0m \u001b[0mdf\u001b[0m\u001b[0;34m=\u001b[0m\u001b[0mdf\u001b[0m\u001b[0;34m.\u001b[0m\u001b[0mdrop\u001b[0m\u001b[0;34m(\u001b[0m\u001b[0mcolumns\u001b[0m\u001b[0;34m=\u001b[0m\u001b[0;34m'reco_id_curr'\u001b[0m\u001b[0;34m)\u001b[0m\u001b[0;34m\u001b[0m\u001b[0;34m\u001b[0m\u001b[0m\n",
            "\u001b[0;32m/usr/local/lib/python3.8/dist-packages/pandas/core/generic.py\u001b[0m in \u001b[0;36m__getattr__\u001b[0;34m(self, name)\u001b[0m\n\u001b[1;32m   5485\u001b[0m         ):\n\u001b[1;32m   5486\u001b[0m             \u001b[0;32mreturn\u001b[0m \u001b[0mself\u001b[0m\u001b[0;34m[\u001b[0m\u001b[0mname\u001b[0m\u001b[0;34m]\u001b[0m\u001b[0;34m\u001b[0m\u001b[0;34m\u001b[0m\u001b[0m\n\u001b[0;32m-> 5487\u001b[0;31m         \u001b[0;32mreturn\u001b[0m \u001b[0mobject\u001b[0m\u001b[0;34m.\u001b[0m\u001b[0m__getattribute__\u001b[0m\u001b[0;34m(\u001b[0m\u001b[0mself\u001b[0m\u001b[0;34m,\u001b[0m \u001b[0mname\u001b[0m\u001b[0;34m)\u001b[0m\u001b[0;34m\u001b[0m\u001b[0;34m\u001b[0m\u001b[0m\n\u001b[0m\u001b[1;32m   5488\u001b[0m \u001b[0;34m\u001b[0m\u001b[0m\n\u001b[1;32m   5489\u001b[0m     \u001b[0;32mdef\u001b[0m \u001b[0m__setattr__\u001b[0m\u001b[0;34m(\u001b[0m\u001b[0mself\u001b[0m\u001b[0;34m,\u001b[0m \u001b[0mname\u001b[0m\u001b[0;34m:\u001b[0m \u001b[0mstr\u001b[0m\u001b[0;34m,\u001b[0m \u001b[0mvalue\u001b[0m\u001b[0;34m)\u001b[0m \u001b[0;34m->\u001b[0m \u001b[0;32mNone\u001b[0m\u001b[0;34m:\u001b[0m\u001b[0;34m\u001b[0m\u001b[0;34m\u001b[0m\u001b[0m\n",
            "\u001b[0;31mAttributeError\u001b[0m: 'DataFrame' object has no attribute 'reco_id_curr'"
          ]
        }
      ]
    },
    {
      "cell_type": "markdown",
      "source": [
        "Устраняем проблемы с категорийными столбами"
      ],
      "metadata": {
        "id": "O9O3hBJutaa3"
      }
    },
    {
      "cell_type": "code",
      "source": [
        "one_hot = pd.get_dummies(df['gender'])\n",
        "one_hot.rename(columns={\"M\":\"gender\"},inplace=True)\n",
        "one_hot = one_hot.drop(columns=['F'])\n",
        "\n",
        "df = df.drop('gender',axis = 1)\n",
        "df = df.join(one_hot)\n",
        "\n",
        "df = df.drop('own_car_flag',axis = 1)\n",
        "df.age_own_car=df.age_own_car.fillna(-100)\n",
        "\n",
        "one_hot = pd.get_dummies(df['own_realty_flag'])\n",
        "one_hot.rename(columns={\"Y\":\"own_realty_flag\"},inplace=True)\n",
        "one_hot = one_hot.drop(columns=['N'])\n",
        "\n",
        "df = df.drop('own_realty_flag',axis = 1)\n",
        "df = df.join(one_hot)\n",
        "\n",
        "one_hot = pd.get_dummies(df['contract_type_name'])\n",
        "one_hot = one_hot.drop(columns=['Revolving loans'])\n",
        "\n",
        "df = df.drop('contract_type_name',axis = 1)\n",
        "df = df.join(one_hot)\n",
        "\n",
        "one_hot = pd.get_dummies(df['emergency_state_mode'])\n",
        "one_hot.rename(columns={\"Yes\":\"emergency_state_modeg\"},inplace=True)\n",
        "one_hot = one_hot.drop(columns=['No'])\n",
        "\n",
        "df = df.drop('emergency_state_mode',axis = 1)\n",
        "df = df.join(one_hot)\n"
      ],
      "metadata": {
        "id": "KRr8fdFRidJ3"
      },
      "execution_count": null,
      "outputs": []
    },
    {
      "cell_type": "code",
      "source": [
        "for col in df.columns:\n",
        "  if df[col].dtype==object:\n",
        "    one_hot = pd.get_dummies(df[col])\n",
        "    df = df.drop(col,axis = 1)\n",
        "    df = df.join(one_hot)"
      ],
      "metadata": {
        "id": "-b8RfIKBjC5P"
      },
      "execution_count": null,
      "outputs": []
    },
    {
      "cell_type": "markdown",
      "source": [
        "\n",
        "\n",
        "```\n",
        "# Выбран кодовый формат\n",
        "```\n",
        "Заполняем"
      ],
      "metadata": {
        "id": "nAWiaRCsB33e"
      }
    },
    {
      "cell_type": "code",
      "source": [
        "df.last_phone_number_change=df.last_phone_number_change.fillna(0) #одна лишь пропущена\n",
        "df.requests_bki_hour=df.requests_bki_hour.fillna(0) \n",
        "df.requests_bki_day=df.requests_bki_day.fillna(0)\n",
        "df.requests_bki_week=df.requests_bki_week.fillna(0)\n",
        "df.requests_bki_month=df.requests_bki_month.fillna(0)\n",
        "df.requests_bki_qrt=df.requests_bki_qrt.fillna(0)\n",
        "df.requests_bki_year=df.requests_bki_year.fillna(0)\n",
        "\n",
        "df.social_circle_defaults_60_days=df.social_circle_defaults_60_days.fillna(0)\n",
        "df.observes_60_count_social_circle=df.observes_60_count_social_circle.fillna(0)\n",
        "df.social_circle_defaults_30_days=df.social_circle_defaults_30_days.fillna(0)\n",
        "df.observes_30_count_social_circle=df.observes_30_count_social_circle.fillna(0)"
      ],
      "metadata": {
        "id": "H7t6wqOFPALf"
      },
      "execution_count": null,
      "outputs": []
    },
    {
      "cell_type": "code",
      "source": [
        "for i in range (27,73):\n",
        "  m=df[df.columns[i]].median()\n",
        "  df[df.columns[i]]=df[df.columns[i]].fillna(m)\n"
      ],
      "metadata": {
        "id": "gkWT-EgJ5-1p"
      },
      "execution_count": null,
      "outputs": []
    },
    {
      "cell_type": "code",
      "source": [
        "m=df.annuity_payment.median()\n",
        "df.annuity_payment=df.annuity_payment.fillna(m)\n",
        "\n",
        "m=df.goods_price.median()\n",
        "df.goods_price=df.goods_price.fillna(m)\n",
        "\n",
        "m=df.family_members__count.median()\n",
        "df.family_members__count=df.family_members__count.fillna(m)\n",
        " "
      ],
      "metadata": {
        "id": "_63uORy--kFL"
      },
      "execution_count": null,
      "outputs": []
    },
    {
      "cell_type": "markdown",
      "source": [
        "Шкалирование"
      ],
      "metadata": {
        "id": "rrBfHXHGtgwN"
      }
    },
    {
      "cell_type": "code",
      "source": [
        "from sklearn.preprocessing import StandardScaler\n",
        "from sklearn.model_selection import train_test_split\n",
        "from sklearn import preprocessing"
      ],
      "metadata": {
        "id": "S9zbpNz0-X5E"
      },
      "execution_count": null,
      "outputs": []
    },
    {
      "cell_type": "code",
      "source": [
        "\n",
        "X=df.copy()\n",
        "\n",
        "scaler = preprocessing.StandardScaler()\n",
        "scaler.fit(X) \n",
        "X_scale = scaler.transform(X)\n",
        "X_scale = pd.DataFrame(X_scale) \n",
        "X3=X_scale.copy()\n"
      ],
      "metadata": {
        "id": "g-Jc93YcEeM3"
      },
      "execution_count": null,
      "outputs": []
    },
    {
      "cell_type": "code",
      "source": [
        "X3.columns+=1\n",
        "X3.columns"
      ],
      "metadata": {
        "colab": {
          "base_uri": "https://localhost:8080/"
        },
        "id": "GwZs_DnD_1Oq",
        "outputId": "0a1b1f15-f097-4299-cd99-6017426728d6"
      },
      "execution_count": null,
      "outputs": [
        {
          "output_type": "execute_result",
          "data": {
            "text/plain": [
              "RangeIndex(start=1, stop=237, step=1)"
            ]
          },
          "metadata": {},
          "execution_count": 13
        }
      ]
    },
    {
      "cell_type": "code",
      "source": [
        "from sklearn.decomposition import PCA\n",
        "from sklearn.feature_selection import SelectKBest, chi2\n",
        "\n"
      ],
      "metadata": {
        "id": "JvJfV4ZYnOSx"
      },
      "execution_count": null,
      "outputs": []
    },
    {
      "cell_type": "code",
      "source": [
        "dropcolumns= [125,26,29,105,25,119,223,30,123,149,8,27,145,140,235,228,208,83,128,7,14,132,150,80,120,20,19,226,129,139,171,28,141,16,144,13,36,64,151,173,134,155,50,220,130,157,10]\n",
        "\n",
        "pcacolumns=X3.drop(columns=dropcolumns)\n",
        "constcolunms=X3.drop(columns=pcacolumns.columns)\n",
        "pcacolumns2=constcolunms.drop(columns=[28,29,30,125,149,105,128,123])\n",
        "constcolunms=constcolunms.drop(columns=pcacolumns2.columns)\n"
      ],
      "metadata": {
        "id": "NF0Q1lp-BQzk"
      },
      "execution_count": null,
      "outputs": []
    },
    {
      "cell_type": "markdown",
      "source": [
        "PCA"
      ],
      "metadata": {
        "id": "E4_HyeTeGfyl"
      }
    },
    {
      "cell_type": "code",
      "source": [
        "n_comp = 3\n",
        "pca = PCA(n_components = n_comp) \n",
        "pca2=pd.DataFrame(pca.fit_transform(pcacolumns2),columns=[356,357,358])"
      ],
      "metadata": {
        "id": "seoX091tnE56"
      },
      "execution_count": null,
      "outputs": []
    },
    {
      "cell_type": "code",
      "source": [
        "fortrain=constcolunms.join(pca2)"
      ],
      "metadata": {
        "id": "byy1FGfHM_wB"
      },
      "execution_count": null,
      "outputs": []
    },
    {
      "cell_type": "code",
      "source": [
        "pip install catboost "
      ],
      "metadata": {
        "id": "pHz-F_BstMSy",
        "outputId": "7ebc5fff-1188-4322-cdf4-8976cb73477a",
        "colab": {
          "base_uri": "https://localhost:8080/"
        }
      },
      "execution_count": null,
      "outputs": [
        {
          "output_type": "stream",
          "name": "stdout",
          "text": [
            "Looking in indexes: https://pypi.org/simple, https://us-python.pkg.dev/colab-wheels/public/simple/\n",
            "Collecting catboost\n",
            "  Downloading catboost-1.1.1-cp38-none-manylinux1_x86_64.whl (76.6 MB)\n",
            "\u001b[2K     \u001b[90m━━━━━━━━━━━━━━━━━━━━━━━━━━━━━━━━━━━━━━━━\u001b[0m \u001b[32m76.6/76.6 MB\u001b[0m \u001b[31m8.2 MB/s\u001b[0m eta \u001b[36m0:00:00\u001b[0m\n",
            "\u001b[?25hRequirement already satisfied: six in /usr/local/lib/python3.8/dist-packages (from catboost) (1.15.0)\n",
            "Requirement already satisfied: scipy in /usr/local/lib/python3.8/dist-packages (from catboost) (1.7.3)\n",
            "Requirement already satisfied: pandas>=0.24.0 in /usr/local/lib/python3.8/dist-packages (from catboost) (1.3.5)\n",
            "Requirement already satisfied: plotly in /usr/local/lib/python3.8/dist-packages (from catboost) (5.5.0)\n",
            "Requirement already satisfied: numpy>=1.16.0 in /usr/local/lib/python3.8/dist-packages (from catboost) (1.21.6)\n",
            "Requirement already satisfied: graphviz in /usr/local/lib/python3.8/dist-packages (from catboost) (0.10.1)\n",
            "Requirement already satisfied: matplotlib in /usr/local/lib/python3.8/dist-packages (from catboost) (3.2.2)\n",
            "Requirement already satisfied: pytz>=2017.3 in /usr/local/lib/python3.8/dist-packages (from pandas>=0.24.0->catboost) (2022.7.1)\n",
            "Requirement already satisfied: python-dateutil>=2.7.3 in /usr/local/lib/python3.8/dist-packages (from pandas>=0.24.0->catboost) (2.8.2)\n",
            "Requirement already satisfied: pyparsing!=2.0.4,!=2.1.2,!=2.1.6,>=2.0.1 in /usr/local/lib/python3.8/dist-packages (from matplotlib->catboost) (3.0.9)\n",
            "Requirement already satisfied: cycler>=0.10 in /usr/local/lib/python3.8/dist-packages (from matplotlib->catboost) (0.11.0)\n",
            "Requirement already satisfied: kiwisolver>=1.0.1 in /usr/local/lib/python3.8/dist-packages (from matplotlib->catboost) (1.4.4)\n",
            "Requirement already satisfied: tenacity>=6.2.0 in /usr/local/lib/python3.8/dist-packages (from plotly->catboost) (8.1.0)\n",
            "Installing collected packages: catboost\n",
            "Successfully installed catboost-1.1.1\n"
          ]
        }
      ]
    },
    {
      "cell_type": "code",
      "source": [
        "from catboost import CatBoostRegressor\n",
        "from catboost import CatBoost"
      ],
      "metadata": {
        "id": "eV4GCBaHOJUC"
      },
      "execution_count": null,
      "outputs": []
    },
    {
      "cell_type": "markdown",
      "source": [
        "Загрузка модели и предсказание"
      ],
      "metadata": {
        "id": "UN1UF1rK17fI"
      }
    },
    {
      "cell_type": "code",
      "source": [
        "model = CatBoostRegressor()\n",
        "model.load_model(\"https://drive.google.com/drive/folders/1laQ0svE8aAKlj25FBNgvLGReBBQXSvZF?usp=share_link/model5.cbm\")\n"
      ],
      "metadata": {
        "id": "YAX2hwq0OFqJ",
        "colab": {
          "base_uri": "https://localhost:8080/"
        },
        "outputId": "bc4a70ab-addb-4b66-d617-f8081169c1b8"
      },
      "execution_count": null,
      "outputs": [
        {
          "output_type": "execute_result",
          "data": {
            "text/plain": [
              "<catboost.core.CatBoostRegressor at 0x7fd4b4e0f3d0>"
            ]
          },
          "metadata": {},
          "execution_count": 21
        }
      ]
    },
    {
      "cell_type": "code",
      "source": [
        "ts_preds = model.predict(fortrain)\n"
      ],
      "metadata": {
        "id": "K9-8OsNxloGB"
      },
      "execution_count": null,
      "outputs": []
    },
    {
      "cell_type": "code",
      "source": [
        "t=pd.DataFrame(ts_preds, columns=['target'])\n",
        "final=idc.join(t)\n",
        "final\n",
        "compression_opts = dict(method='zip',\n",
        "                        archive_name='answer.csv')  \n",
        "final.to_csv('answer.zip', index=False,\n",
        "          compression=compression_opts)  "
      ],
      "metadata": {
        "id": "BsDwhdR6l8RJ"
      },
      "execution_count": null,
      "outputs": []
    }
  ]
}